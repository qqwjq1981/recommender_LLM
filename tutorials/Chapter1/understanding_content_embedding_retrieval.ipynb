{
  "cells": [
    {
      "cell_type": "markdown",
      "source": [
        "## Tutorial: Content Embedding and Retrieval"
      ],
      "metadata": {
        "nteract": {
          "transient": {
            "deleting": false
          }
        }
      }
    },
    {
      "cell_type": "markdown",
      "source": [
        "#### Objective\n",
        "- Understand the role of embeddings in capturing semantic relationships between content.\n",
        "- Generate embeddings for textual data using pre-trained LLMs.\n",
        "- Perform content retrieval using Approximate Nearest Neighbor (ANN) search with these embeddings."
      ],
      "metadata": {
        "nteract": {
          "transient": {
            "deleting": false
          }
        }
      }
    },
    {
      "cell_type": "code",
      "source": [
        "pip install faiss-cpu\n",
        "pip install numpy scikit-learn bm25s"
      ],
      "outputs": [
        {
          "output_type": "stream",
          "name": "stderr",
          "text": "huggingface/tokenizers: The current process just got forked, after parallelism has already been used. Disabling parallelism to avoid deadlocks...\nTo disable this warning, you can either:\n\t- Avoid using `tokenizers` before the fork if possible\n\t- Explicitly set the environment variable TOKENIZERS_PARALLELISM=(true | false)\n"
        },
        {
          "output_type": "stream",
          "name": "stdout",
          "text": "Requirement already satisfied: faiss-cpu in /anaconda/envs/azureml_py310_sdkv2/lib/python3.10/site-packages (1.9.0.post1)\nRequirement already satisfied: numpy<3.0,>=1.25.0 in /anaconda/envs/azureml_py310_sdkv2/lib/python3.10/site-packages (from faiss-cpu) (2.2.1)\nRequirement already satisfied: packaging in /anaconda/envs/azureml_py310_sdkv2/lib/python3.10/site-packages (from faiss-cpu) (24.0)\nNote: you may need to restart the kernel to use updated packages.\n"
        }
      ],
      "execution_count": 22,
      "metadata": {
        "jupyter": {
          "source_hidden": false,
          "outputs_hidden": false
        },
        "nteract": {
          "transient": {
            "deleting": false
          }
        },
        "gather": {
          "logged": 1735106939622
        }
      }
    },
    {
      "cell_type": "markdown",
      "source": [
        "#### Step 1: Understanding Content Embedding\n",
        "Content embedding is the process of transforming input data (e.g., text, images) into dense vectors that capture semantic meaning. These embeddings are essential for tasks like:\n",
        "\n",
        "- Similarity Search: Finding similar items based on their embeddings.\n",
        "- Recommendation: Matching user preferences with item embeddings.\n"
      ],
      "metadata": {
        "nteract": {
          "transient": {
            "deleting": false
          }
        }
      }
    },
    {
      "cell_type": "code",
      "source": [
        "from transformers import AutoTokenizer, AutoModel\n",
        "import torch\n",
        "\n",
        "# Load pre-trained model and tokenizer\n",
        "model_name = \"sentence-transformers/all-MiniLM-L6-v2\"\n",
        "tokenizer = AutoTokenizer.from_pretrained(model_name)\n",
        "model = AutoModel.from_pretrained(model_name)\n",
        "\n",
        "def generate_embeddings(texts, model, tokenizer):\n",
        "    \"\"\"\n",
        "    Generate dense embeddings for a list of texts using a pre-trained model.\n",
        "    \"\"\"\n",
        "    encoded_input = tokenizer(texts, padding=True, truncation=True, return_tensors='pt')\n",
        "    with torch.no_grad():\n",
        "        model_output = model(**encoded_input)\n",
        "    # Average pooling of the last hidden states\n",
        "    embeddings = model_output.last_hidden_state.mean(dim=1)\n",
        "    return embeddings\n",
        "\n",
        "# Example texts\n",
        "texts = [\"I love machine learning.\", \"Transformers are powerful.\", \"Embeddings capture meaning.\"]\n",
        "embeddings = generate_embeddings(texts, model, tokenizer)\n",
        "print(\"Embeddings shape:\", embeddings.shape)\n"
      ],
      "outputs": [
        {
          "output_type": "stream",
          "name": "stdout",
          "text": "Embeddings shape: torch.Size([3, 384])\n"
        }
      ],
      "execution_count": 23,
      "metadata": {
        "jupyter": {
          "source_hidden": false,
          "outputs_hidden": false
        },
        "nteract": {
          "transient": {
            "deleting": false
          }
        },
        "gather": {
          "logged": 1735106939827
        }
      }
    },
    {
      "cell_type": "markdown",
      "source": [
        "#### Step 4: Visualizing Embeddings\n",
        "\n",
        "Visualizing embeddings can help understand how content is semantically clustered.\n",
        "\n",
        "**Code: 2D Visualization with t-SNE**"
      ],
      "metadata": {
        "nteract": {
          "transient": {
            "deleting": false
          }
        }
      }
    },
    {
      "cell_type": "code",
      "source": [
        "from sklearn.manifold import TSNE\n",
        "import matplotlib.pyplot as plt\n",
        "\n",
        "# Assume embeddings_np is a NumPy array of embeddings\n",
        "print(f\"Number of samples: {embeddings_np.shape[0]}\")\n",
        "\n",
        "# Set perplexity dynamically\n",
        "perplexity = min(30, embeddings_np.shape[0] - 1)\n",
        "print(f\"Using perplexity: {perplexity}\")\n",
        "\n",
        "# Reduce dimensionality to 2D for visualization\n",
        "tsne = TSNE(n_components=2, perplexity=perplexity, random_state=42)\n",
        "embeddings_2d = tsne.fit_transform(embeddings_np)\n",
        "\n",
        "# Plot\n",
        "plt.scatter(embeddings_2d[:, 0], embeddings_2d[:, 1], c='blue', label='Content Embeddings')\n",
        "plt.title(\"t-SNE Visualization of Embeddings\")\n",
        "plt.legend()\n",
        "plt.show()\n"
      ],
      "outputs": [
        {
          "output_type": "stream",
          "name": "stdout",
          "text": "Number of samples: 3\nUsing perplexity: 2\n"
        },
        {
          "output_type": "display_data",
          "data": {
            "text/plain": "<Figure size 640x480 with 1 Axes>",
            "image/png": "[encoded data removed]"
          },
          "metadata": {}
        }
      ],
      "execution_count": 25,
      "metadata": {
        "jupyter": {
          "source_hidden": false,
          "outputs_hidden": false
        },
        "nteract": {
          "transient": {
            "deleting": false
          }
        },
        "gather": {
          "logged": 1735106940130
        }
      }
    },
    {
      "cell_type": "markdown",
      "source": [
        "#### Step 3: Content Retrieval Using ANN\n",
        "\n",
        "To retrieve content efficiently, we’ll use Approximate Nearest Neighbor (ANN) techniques, leveraging libraries like FAISS.\n",
        "\n",
        "- BM25 retrieval.\n",
        "- Hybrid retrieval.\n",
        "- Hybrid retrieval with document expansion."
      ],
      "metadata": {
        "nteract": {
          "transient": {
            "deleting": false
          }
        }
      }
    },
    {
      "cell_type": "code",
      "source": [
        "import numpy as np\n",
        "from sklearn.metrics.pairwise import cosine_similarity\n",
        "import bm25s\n",
        "\n",
        "# Sample corpus for demonstration\n",
        "corpus = [\n",
        "    \"a cat is a feline and likes to purr\",\n",
        "    \"a dog is the human's best friend and loves to play\",\n",
        "    \"a bird is a beautiful animal that can fly\",\n",
        "    \"a fish is a creature that lives in water and swims\"\n",
        "]\n",
        "\n",
        "# Initialize BM25 model\n",
        "bm25_retriever = bm25s.BM25(corpus)\n",
        "\n",
        "def bm25_retrieve(query, k=2):\n",
        "    \"\"\"Retrieve top k documents using BM25.\"\"\"\n",
        "    results, scores = bm25_retriever.retrieve(bm25s.tokenize(query), k=k)\n",
        "    return results, scores\n",
        "\n",
        "def embedding_retrieve(query_embedding, document_embeddings, k=2):\n",
        "    \"\"\"Retrieve top k documents based on embedding similarity.\"\"\"\n",
        "    similarities = cosine_similarity(query_embedding.reshape(1, -1), document_embeddings)\n",
        "    top_k_indices = similarities.argsort()[0][-k:][::-1]\n",
        "    return top_k_indices, similarities[0][top_k_indices]\n",
        "\n",
        "def hybrid_retrieve(query_embedding, document_embeddings, query, k=2):\n",
        "    \"\"\"Hybrid retrieval combining BM25 and embedding-based methods.\"\"\"\n",
        "    # Get BM25 results\n",
        "    bm25_results, _ = bm25_retrieve(query, k)\n",
        "    \n",
        "    # Get embedding results\n",
        "    embedding_indices, _ = embedding_retrieve(query_embedding, document_embeddings, k)\n",
        "    \n",
        "    # Combine results (you can customize the combination logic)\n",
        "    combined_results = set(bm25_results) | set(np.array(corpus)[embedding_indices])\n",
        "    \n",
        "    return list(combined_results)\n",
        "\n",
        "# Example usage:\n",
        "query_text = \"What animal likes to purr?\"\n",
        "query_embedding = np.random.rand(300)  # Replace with actual query embedding generation\n",
        "document_embeddings = np.random.rand(len(corpus), 300)  # Replace with actual document embeddings\n",
        "\n",
        "# Retrieve using BM25\n",
        "bm25_results, bm25_scores = bm25_retrieve(query_text)\n",
        "print(\"BM25 Results:\", bm25_results)\n",
        "\n",
        "# Retrieve using Embedding-Based Retrieval\n",
        "embedding_indices, embedding_scores = embedding_retrieve(query_embedding, document_embeddings)\n",
        "print(\"Embedding Results:\", np.array(corpus)[embedding_indices])\n",
        "\n",
        "# Retrieve using Hybrid Method\n",
        "hybrid_results = hybrid_retrieve(query_embedding, document_embeddings, query_text)\n",
        "print(\"Hybrid Results:\", hybrid_results)\n"
      ],
      "outputs": [
        {
          "output_type": "stream",
          "name": "stdout",
          "text": "Recommendations: ['AI trends in 2024.', 'Machine learning basics.', 'Deep learning applications.']\n"
        }
      ],
      "execution_count": 26,
      "metadata": {
        "jupyter": {
          "source_hidden": false,
          "outputs_hidden": false
        },
        "nteract": {
          "transient": {
            "deleting": false
          }
        },
        "gather": {
          "logged": 1735106940233
        }
      }
    },
    {
      "cell_type": "markdown",
      "source": [
        "#### Step 4: Evaluating Retrieval\n",
        "To assess the performance:\n",
        "\n",
        "1. Use a metric like Precision@K: How many retrieved items are relevant?\n",
        "2. Create labeled test sets with query-relevant pairs.\n",
        "\n",
        "**Code: Precision@K**"
      ],
      "metadata": {
        "nteract": {
          "transient": {
            "deleting": false
          }
        }
      }
    },
    {
      "cell_type": "code",
      "source": [
        "def evaluate_retrieval(retrieved_results, relevant_documents):\n",
        "    \"\"\"Evaluate retrieval performance based on relevant documents.\"\"\"\n",
        "    retrieved_set = set(retrieved_results)\n",
        "    relevant_set = set(relevant_documents)\n",
        "    \n",
        "    true_positives = len(retrieved_set & relevant_set)\n",
        "    precision = true_positives / len(retrieved_set) if retrieved_set else 0\n",
        "    recall = true_positives / len(relevant_set) if relevant_set else 0\n",
        "    \n",
        "    return precision, recall\n",
        "\n",
        "# Define some relevant documents for evaluation (ground truth)\n",
        "relevant_documents = [\"a cat is a feline and likes to purr\", \"a dog is the human's best friend and loves to play\"]\n",
        "\n",
        "# Evaluate each method\n",
        "bm25_precision, bm25_recall = evaluate_retrieval(bm25_results, relevant_documents)\n",
        "embedding_precision, embedding_recall = evaluate_retrieval(np.array(corpus)[embedding_indices], relevant_documents)\n",
        "hybrid_precision, hybrid_recall = evaluate_retrieval(hybrid_results, relevant_documents)\n",
        "\n",
        "print(\"BM25 Precision:\", bm25_precision, \"Recall:\", bm25_recall)\n",
        "print(\"Embedding Precision:\", embedding_precision, \"Recall:\", embedding_recall)\n",
        "print(\"Hybrid Precision:\", hybrid_precision, \"Recall:\", hybrid_recall)\n"
      ],
      "outputs": [
        {
          "output_type": "stream",
          "name": "stdout",
          "text": "Precision@2: 0.5\n"
        }
      ],
      "execution_count": 27,
      "metadata": {
        "jupyter": {
          "source_hidden": false,
          "outputs_hidden": false
        },
        "nteract": {
          "transient": {
            "deleting": false
          }
        },
        "gather": {
          "logged": 1735106940393
        }
      }
    },
    {
      "cell_type": "code",
      "source": [],
      "outputs": [],
      "execution_count": null,
      "metadata": {
        "jupyter": {
          "source_hidden": false,
          "outputs_hidden": false
        },
        "nteract": {
          "transient": {
            "deleting": false
          }
        }
      }
    }
  ],
  "metadata": {
    "kernelspec": {
      "name": "python310-sdkv2",
      "language": "python",
      "display_name": "Python 3.10 - SDK v2"
    },
    "language_info": {
      "name": "python",
      "version": "3.10.14",
      "mimetype": "text/x-python",
      "codemirror_mode": {
        "name": "ipython",
        "version": 3
      },
      "pygments_lexer": "ipython3",
      "nbconvert_exporter": "python",
      "file_extension": ".py"
    },
    "microsoft": {
      "ms_spell_check": {
        "ms_spell_check_language": "en"
      },
      "host": {
        "AzureML": {
          "notebookHasBeenCompleted": true
        }
      }
    },
    "nteract": {
      "version": "nteract-front-end@1.0.0"
    },
    "kernel_info": {
      "name": "python310-sdkv2"
    }
  },
  "nbformat": 4,
  "nbformat_minor": 2
}
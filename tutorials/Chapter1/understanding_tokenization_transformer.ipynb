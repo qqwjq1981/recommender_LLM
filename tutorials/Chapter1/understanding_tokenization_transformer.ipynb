{
  "cells": [
    {
      "cell_type": "markdown",
      "source": [
        "## Tutorial: Tokenization and Transformer Model"
      ],
      "metadata": {
        "nteract": {
          "transient": {
            "deleting": false
          }
        }
      }
    },
    {
      "cell_type": "markdown",
      "source": [
        "#### Objective\n",
        "- Understand tokenization and how it prepares text data for transformers.\n",
        "- Explore how transformers process tokenized input using attention mechanisms and visualize attention weights to observe how transformers focus on specific tokens.\n",
        "- Examine the inference process in GPT models, highlighting techniques that optimize performance."
      ],
      "metadata": {
        "nteract": {
          "transient": {
            "deleting": false
          }
        }
      }
    },
    {
      "cell_type": "markdown",
      "source": [
        "#### Prerequisites\n",
        "- Python installed (3.8+ recommended).\n",
        "- Install necessary libraries:"
      ],
      "metadata": {
        "nteract": {
          "transient": {
            "deleting": false
          }
        }
      }
    },
    {
      "cell_type": "code",
      "source": [
        "pip install transformers torch matplotlib seaborn"
      ],
      "outputs": [
        {
          "output_type": "stream",
          "name": "stdout",
          "text": "Requirement already satisfied: transformers in /anaconda/envs/azureml_py38/lib/python3.9/site-packages (4.36.2)\nRequirement already satisfied: torch in /anaconda/envs/azureml_py38/lib/python3.9/site-packages (1.13.1)\nRequirement already satisfied: matplotlib in /anaconda/envs/azureml_py38/lib/python3.9/site-packages (3.9.2)\nRequirement already satisfied: seaborn in /anaconda/envs/azureml_py38/lib/python3.9/site-packages (0.13.2)\nRequirement already satisfied: huggingface-hub<1.0,>=0.19.3 in /anaconda/envs/azureml_py38/lib/python3.9/site-packages (from transformers) (0.22.2)\nRequirement already satisfied: tokenizers<0.19,>=0.14 in /anaconda/envs/azureml_py38/lib/python3.9/site-packages (from transformers) (0.15.2)\nRequirement already satisfied: numpy>=1.17 in /anaconda/envs/azureml_py38/lib/python3.9/site-packages (from transformers) (1.23.5)\nRequirement already satisfied: requests in /anaconda/envs/azureml_py38/lib/python3.9/site-packages (from transformers) (2.31.0)\nRequirement already satisfied: pyyaml>=5.1 in /anaconda/envs/azureml_py38/lib/python3.9/site-packages (from transformers) (6.0.1)\nRequirement already satisfied: safetensors>=0.3.1 in /anaconda/envs/azureml_py38/lib/python3.9/site-packages (from transformers) (0.4.3)\nRequirement already satisfied: tqdm>=4.27 in /anaconda/envs/azureml_py38/lib/python3.9/site-packages (from transformers) (4.66.2)\nRequirement already satisfied: filelock in /anaconda/envs/azureml_py38/lib/python3.9/site-packages (from transformers) (3.14.0)\nRequirement already satisfied: regex!=2019.12.17 in /anaconda/envs/azureml_py38/lib/python3.9/site-packages (from transformers) (2024.4.28)\nRequirement already satisfied: packaging>=20.0 in /anaconda/envs/azureml_py38/lib/python3.9/site-packages (from transformers) (24.0)\nRequirement already satisfied: typing-extensions in /anaconda/envs/azureml_py38/lib/python3.9/site-packages (from torch) (4.12.2)\nRequirement already satisfied: contourpy>=1.0.1 in /anaconda/envs/azureml_py38/lib/python3.9/site-packages (from matplotlib) (1.2.1)\nRequirement already satisfied: python-dateutil>=2.7 in /anaconda/envs/azureml_py38/lib/python3.9/site-packages (from matplotlib) (2.9.0.post0)\nRequirement already satisfied: kiwisolver>=1.3.1 in /anaconda/envs/azureml_py38/lib/python3.9/site-packages (from matplotlib) (1.4.5)\nRequirement already satisfied: pillow>=8 in /anaconda/envs/azureml_py38/lib/python3.9/site-packages (from matplotlib) (9.2.0)\nRequirement already satisfied: importlib-resources>=3.2.0 in /anaconda/envs/azureml_py38/lib/python3.9/site-packages (from matplotlib) (6.1.0)\nRequirement already satisfied: fonttools>=4.22.0 in /anaconda/envs/azureml_py38/lib/python3.9/site-packages (from matplotlib) (4.51.0)\nRequirement already satisfied: cycler>=0.10 in /anaconda/envs/azureml_py38/lib/python3.9/site-packages (from matplotlib) (0.12.1)\nRequirement already satisfied: pyparsing>=2.3.1 in /anaconda/envs/azureml_py38/lib/python3.9/site-packages (from matplotlib) (3.1.2)\nRequirement already satisfied: pandas>=1.2 in /anaconda/envs/azureml_py38/lib/python3.9/site-packages (from seaborn) (1.3.5)\nRequirement already satisfied: fsspec>=2023.5.0 in /anaconda/envs/azureml_py38/lib/python3.9/site-packages (from huggingface-hub<1.0,>=0.19.3->transformers) (2023.10.0)\nRequirement already satisfied: zipp>=3.1.0 in /anaconda/envs/azureml_py38/lib/python3.9/site-packages (from importlib-resources>=3.2.0->matplotlib) (3.12.0)\nRequirement already satisfied: pytz>=2017.3 in /anaconda/envs/azureml_py38/lib/python3.9/site-packages (from pandas>=1.2->seaborn) (2022.5)\nRequirement already satisfied: six>=1.5 in /anaconda/envs/azureml_py38/lib/python3.9/site-packages (from python-dateutil>=2.7->matplotlib) (1.16.0)\nRequirement already satisfied: charset-normalizer<4,>=2 in /anaconda/envs/azureml_py38/lib/python3.9/site-packages (from requests->transformers) (3.3.2)\nRequirement already satisfied: certifi>=2017.4.17 in /anaconda/envs/azureml_py38/lib/python3.9/site-packages (from requests->transformers) (2024.8.30)\nRequirement already satisfied: urllib3<3,>=1.21.1 in /anaconda/envs/azureml_py38/lib/python3.9/site-packages (from requests->transformers) (2.2.3)\nRequirement already satisfied: idna<4,>=2.5 in /anaconda/envs/azureml_py38/lib/python3.9/site-packages (from requests->transformers) (3.7)\nNote: you may need to restart the kernel to use updated packages.\n"
        }
      ],
      "execution_count": 1,
      "metadata": {
        "jupyter": {
          "source_hidden": false,
          "outputs_hidden": false
        },
        "nteract": {
          "transient": {
            "deleting": false
          }
        },
        "gather": {
          "logged": 1735102931801
        }
      }
    },
    {
      "cell_type": "markdown",
      "source": [
        "#### Step 1: Tokenization Basics\n",
        "\n",
        "Tokenization is the process of breaking down text into smaller units (tokens) that a model can understand. Subword tokenization (e.g., Byte-Pair Encoding) is commonly used in transformers.\n",
        "\n",
        "**Pre-trained Tokenizer **"
      ],
      "metadata": {
        "nteract": {
          "transient": {
            "deleting": false
          }
        }
      }
    },
    {
      "cell_type": "code",
      "source": [
        "from transformers import AutoTokenizer\n",
        "\n",
        "# Load a pre-trained tokenizer\n",
        "tokenizer = AutoTokenizer.from_pretrained(\"bert-base-uncased\")\n",
        "\n",
        "# Sample text\n",
        "text = \"Transformers have revolutionized natural language processing!\"\n",
        "\n",
        "# Tokenize the input\n",
        "tokens = tokenizer.tokenize(text)\n",
        "input_ids = tokenizer(text, return_tensors=\"pt\")[\"input_ids\"]\n",
        "\n",
        "print(\"Original Text:\", text)\n",
        "print(\"Tokens:\", tokens)\n",
        "print(\"Input IDs:\", input_ids)"
      ],
      "outputs": [
        {
          "output_type": "stream",
          "name": "stdout",
          "text": "Original Text: Transformers have revolutionized natural language processing!\nTokens: ['transformers', 'have', 'revolution', '##ized', 'natural', 'language', 'processing', '!']\nInput IDs: tensor([[  101, 19081,  2031,  4329,  3550,  3019,  2653,  6364,   999,   102]])\n"
        }
      ],
      "execution_count": 2,
      "metadata": {
        "jupyter": {
          "source_hidden": false,
          "outputs_hidden": false
        },
        "nteract": {
          "transient": {
            "deleting": false
          }
        },
        "gather": {
          "logged": 1735102985808
        }
      }
    },
    {
      "cell_type": "markdown",
      "source": [
        "** Trained tokenizer**"
      ],
      "metadata": {
        "nteract": {
          "transient": {
            "deleting": false
          }
        }
      }
    },
    {
      "cell_type": "code",
      "source": [
        "from tokenizers import Tokenizer, models, trainers\n",
        "\n",
        "# Initialize a new BPE tokenizer\n",
        "tokenizer = Tokenizer(models.BPE())\n",
        "tokenizer.pre_tokenizer = pre_tokenizers.ByteLevel()\n",
        "\n",
        "# Train the tokenizer on custom data\n",
        "trainer = trainers.BpeTrainer(vocab_size=50_000)\n",
        "tokenizer.train_from_iterator([\"Hello, how are you?\", \"I am fine, thank you!\"], trainer)\n",
        "\n",
        "# Example usage\n",
        "input_text = \"Hello, how are you?\"\n",
        "tokens = tokenizer.encode(input_text)\n",
        "print(tokens.tokens())  # Outputs tokens based on trained vocabulary\n"
      ],
      "outputs": [],
      "execution_count": null,
      "metadata": {
        "jupyter": {
          "source_hidden": false,
          "outputs_hidden": false
        },
        "nteract": {
          "transient": {
            "deleting": false
          }
        }
      }
    },
    {
      "cell_type": "markdown",
      "source": [
        "#### Step 2: Understanding Transformers\n",
        "**Transformer Architecture**\n",
        "\n",
        "Transformers process tokenized inputs through layers of self-attention and feed-forward networks, generating contextualized embeddings for each token."
      ],
      "metadata": {
        "nteract": {
          "transient": {
            "deleting": false
          }
        }
      }
    },
    {
      "cell_type": "code",
      "source": [
        "from transformers import AutoModel\n",
        "\n",
        "# Load a pre-trained transformer model\n",
        "model = AutoModel.from_pretrained(\"bert-base-uncased\")\n",
        "\n",
        "# Pass the tokenized input to the model\n",
        "outputs = model(input_ids)\n",
        "\n",
        "# Extract the hidden states\n",
        "hidden_states = outputs.last_hidden_state\n",
        "\n",
        "print(\"Shape of Hidden States:\", hidden_states.shape)\n"
      ],
      "outputs": [
        {
          "output_type": "stream",
          "name": "stdout",
          "text": "Shape of Hidden States: torch.Size([1, 10, 768])\n"
        }
      ],
      "execution_count": 4,
      "metadata": {
        "jupyter": {
          "source_hidden": false,
          "outputs_hidden": false
        },
        "nteract": {
          "transient": {
            "deleting": false
          }
        },
        "gather": {
          "logged": 1735103010915
        }
      }
    },
    {
      "cell_type": "markdown",
      "source": [
        "** Explanation: **\n",
        "- `hidden_states` contains contextual embeddings for each token.\n",
        "- The shape is `[batch_size, sequence_length, hidden_size]`."
      ],
      "metadata": {
        "nteract": {
          "transient": {
            "deleting": false
          }
        }
      }
    },
    {
      "cell_type": "markdown",
      "source": [
        "#### Step 3: Visualizing Attention Weights\n",
        "**What Are Attention Weights?**\n",
        "\n",
        "Attention weights determine how much importance the model assigns to each token when processing a given token."
      ],
      "metadata": {
        "nteract": {
          "transient": {
            "deleting": false
          }
        }
      }
    },
    {
      "cell_type": "code",
      "source": [
        "from transformers import BertModel\n",
        "import matplotlib.pyplot as plt\n",
        "import seaborn as sns\n",
        "\n",
        "# Load the model with attention outputs enabled\n",
        "model = BertModel.from_pretrained(\"bert-base-uncased\", output_attentions=True)\n",
        "\n",
        "# Forward pass to extract attention weights\n",
        "outputs = model(input_ids)\n",
        "attention_weights = outputs.attentions  # List of attention matrices (one per layer)\n",
        "\n",
        "# Select attention weights from the first layer and the first head\n",
        "layer = 0  # First layer\n",
        "head = 0   # First attention head\n",
        "attention_matrix = attention_weights[layer][0, head].detach().numpy()\n",
        "\n",
        "# Visualize the attention matrix\n",
        "tokens = tokenizer.convert_ids_to_tokens(input_ids[0])\n",
        "plt.figure(figsize=(10, 8))\n",
        "sns.heatmap(attention_matrix, xticklabels=tokens, yticklabels=tokens, cmap=\"viridis\")\n",
        "plt.title(\"Attention Weights (Layer 0, Head 0)\")\n",
        "plt.xlabel(\"Query Tokens\")\n",
        "plt.ylabel(\"Key Tokens\")\n",
        "plt.show()\n"
      ],
      "outputs": [
        {
          "output_type": "display_data",
          "data": {
            "text/plain": "<Figure size 1000x800 with 2 Axes>",
            "image/png": "[encoded data removed]"
          },
          "metadata": {}
        }
      ],
      "execution_count": 5,
      "metadata": {
        "jupyter": {
          "source_hidden": false,
          "outputs_hidden": false
        },
        "nteract": {
          "transient": {
            "deleting": false
          }
        },
        "gather": {
          "logged": 1735103072033
        }
      }
    },
    {
      "cell_type": "markdown",
      "source": [
        "#### Step 4: Decoding Model Inference:\n",
        "\n",
        "- Inference with classic auto-regressive decoding (slow)\n",
        "- Inference with speculative decoding (faster)"
      ],
      "metadata": {
        "nteract": {
          "transient": {
            "deleting": false
          }
        }
      }
    },
    {
      "cell_type": "code",
      "source": [
        "import torch\n",
        "from transformers import AutoTokenizer, AutoModelForCausalLM\n",
        "from sampling import speculative_generate, autoregressive_generate\n",
        "from utils.logits_processors import NucleusProcessor\n",
        "\n",
        "# Load the target (large) and drafter (small) models\n",
        "target_model_name = \"Gemma2-2B\"  # Replace with actual model name\n",
        "drafter_model_name = \"Gemma2-250M\"  # Smaller drafter model\n",
        "\n",
        "tokenizer = AutoTokenizer.from_pretrained(target_model_name)\n",
        "target_model = AutoModelForCausalLM.from_pretrained(target_model_name)\n",
        "drafter_model = AutoModelForCausalLM.from_pretrained(drafter_model_name)\n",
        "\n",
        "# Define parameters for generation\n",
        "gen_len = 100  # Maximum number of tokens to generate\n",
        "gamma = 4  # Number of drafts generated by the drafter model at each step\n",
        "logits_processor = NucleusProcessor(temperature=0.6, top_p=0.9)\n",
        "\n",
        "# Input prompt for generation\n",
        "input_text = \"Once upon a time\"\n",
        "input_ids = tokenizer.encode(input_text, return_tensors='pt')\n",
        "\n",
        "# Generate text using classic auto-regressive decoding (slow)\n",
        "output_ids_ar = autoregressive_generate(\n",
        "    input_ids,\n",
        "    target_model,\n",
        "    logits_processor=logits_processor,\n",
        "    max_gen_len=gen_len,\n",
        "    end_tokens_id=tokenizer.eos_token_id,\n",
        "    pad_token_id=tokenizer.pad_token_id,\n",
        ")\n",
        "\n",
        "output_ar = tokenizer.decode(output_ids_ar[0], skip_special_tokens=True)\n",
        "\n",
        "# Generate text using speculative decoding (faster)\n",
        "output_ids_sd, alpha = speculative_generate(\n",
        "    input_ids,\n",
        "    drafter_model,\n",
        "    target_model,\n",
        "    logits_processor=logits_processor,\n",
        "    gamma=gamma,\n",
        "    max_gen_len=gen_len,\n",
        "    end_tokens_id=tokenizer.eos_token_id,\n",
        "    pad_token_id=tokenizer.pad_token_id,\n",
        ")\n",
        "\n",
        "output_sd = tokenizer.decode(output_ids_sd[0], skip_special_tokens=True)\n",
        "\n",
        "print(\"Auto-regressive decoding:\", output_ar)\n",
        "print(\"Speculative decoding:\", output_sd)\n"
      ],
      "outputs": [],
      "execution_count": null,
      "metadata": {
        "jupyter": {
          "source_hidden": false,
          "outputs_hidden": false
        },
        "nteract": {
          "transient": {
            "deleting": false
          }
        }
      }
    }
  ],
  "metadata": {
    "kernelspec": {
      "name": "python38-azureml",
      "language": "python",
      "display_name": "Python 3.8 - AzureML"
    },
    "language_info": {
      "name": "python",
      "version": "3.9.19",
      "mimetype": "text/x-python",
      "codemirror_mode": {
        "name": "ipython",
        "version": 3
      },
      "pygments_lexer": "ipython3",
      "nbconvert_exporter": "python",
      "file_extension": ".py"
    },
    "microsoft": {
      "ms_spell_check": {
        "ms_spell_check_language": "en"
      },
      "host": {
        "AzureML": {
          "notebookHasBeenCompleted": true
        }
      }
    },
    "nteract": {
      "version": "nteract-front-end@1.0.0"
    },
    "kernel_info": {
      "name": "python38-azureml"
    }
  },
  "nbformat": 4,
  "nbformat_minor": 2
}
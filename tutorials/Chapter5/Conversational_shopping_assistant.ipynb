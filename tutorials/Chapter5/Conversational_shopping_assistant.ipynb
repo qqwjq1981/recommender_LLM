{
  "cells": [
    {
      "cell_type": "markdown",
      "source": [
        "## Conversational Shopping Assistant with Reinforcement Learning\n",
        "\n",
        "#### Objective\n",
        "\n",
        "- Recommends products based on user queries.\n",
        "- Learns from user feedback over multiple conversation rounds.\n",
        "- Dynamically adapts recommendations to enhance personalization.\n",
        "\n",
        "#### Prerequisites\n",
        "- Programming Environment\n",
        "- Python 3.8+\n",
        "- Libraries: transformers, Flask (or FastAPI), pandas, scikit-learn, numpy, gym.\n",
        "\n",
        "#### Dataset\n",
        "\n",
        "- Use the Amazon Product Dataset or a CSV file containing product details:\n",
        "-- Columns: product_id, name, category, price, description.\n",
        "\n",
        "#### Tools\n",
        "\n",
        "- Pre-trained Language Models: For natural language understanding (NLU), e.g., Hugging Face’s DistilBERT.\n",
        "- Content-Based Filtering: For initial product recommendations.\n",
        "- RL Environment: Using gym to simulate the recommendation process.\n",
        "\n",
        "\n",
        "#### Define User Scenarios and Dialogue Flow\n",
        "\n",
        "**Scenarios:**\n",
        "\n",
        "- Product Recommendations: Input: \"Recommend a laptop under $1000.\" Output: List of laptops within the price range.\n",
        "- Product Details: Input: \"Tell me about the Dell XPS 13.\" Output: Product description, price, and availability.\n",
        "\n",
        "**Dialogue Flow:**\n",
        "\n",
        "- Recognize user intent: recommend, product_info, or greeting.\n",
        "- Extract entities (e.g., category, price range).\n",
        "- Fetch and respond with relevant data.\n",
        "- Maintain conversation state across turns.\n"
      ],
      "metadata": {
        "nteract": {
          "transient": {
            "deleting": false
          }
        }
      }
    },
    {
      "cell_type": "markdown",
      "source": [
        "#### Build the Conversational Layer\n",
        "\n",
        "**Intent Classification**\n",
        "\n",
        "Use a zero-shot classifier (e.g., Hugging Face's BART) to identify user intent.\n",
        "\n",
        "**Entity Extraction**\n",
        "\n",
        "Extract entities like price range and category using keyword parsing or spaCy."
      ],
      "metadata": {
        "nteract": {
          "transient": {
            "deleting": false
          }
        }
      }
    },
    {
      "cell_type": "code",
      "source": [
        "from transformers import pipeline\n",
        "\n",
        "classifier = pipeline(\"zero-shot-classification\", model=\"facebook/bart-large-mnli\")\n",
        "intents = [\"recommend\", \"product_info\", \"greeting\"]\n",
        "\n",
        "def classify_intent(user_input):\n",
        "    result = classifier(user_input, intents)\n",
        "    return result['labels'][0]\n",
        "\n",
        "# Example usage\n",
        "user_input = \"Can you recommend a laptop under $1000?\"\n",
        "print(classify_intent(user_input))  # Output: \"recommend\"\n"
      ],
      "outputs": [],
      "execution_count": null,
      "metadata": {
        "jupyter": {
          "source_hidden": false,
          "outputs_hidden": false
        },
        "nteract": {
          "transient": {
            "deleting": false
          }
        }
      }
    },
    {
      "cell_type": "markdown",
      "source": [
        "#### Implement the Recommendation Engine\n",
        "\n",
        "Use content-based filtering to provide initial recommendations."
      ],
      "metadata": {
        "nteract": {
          "transient": {
            "deleting": false
          }
        }
      }
    },
    {
      "cell_type": "code",
      "source": [
        "#### Integrate Reinforcement Learning for Multi-Turn Optimization\n",
        "\n",
        "**RL Environment Setup**\n",
        "\n",
        "Define the RL environment using gym. This environment simulates the recommendation process, where:\n",
        "\n",
        "- State Space: User preferences, conversation history, previous recommendations.\n",
        "- Action Space: Products available for recommendation.\n",
        "- Reward Signal: User feedback (e.g., clicks, purchases)."
      ],
      "outputs": [],
      "execution_count": null,
      "metadata": {
        "jupyter": {
          "source_hidden": false,
          "outputs_hidden": false
        },
        "nteract": {
          "transient": {
            "deleting": false
          }
        }
      }
    },
    {
      "cell_type": "code",
      "source": [
        "import gym\n",
        "\n",
        "class RecommendationEnv(gym.Env):\n",
        "    def __init__(self, products):\n",
        "        self.products = products\n",
        "        self.current_state = 0\n",
        "        self.action_space = gym.spaces.Discrete(len(products))\n",
        "        self.observation_space = gym.spaces.Discrete(len(products))\n",
        "\n",
        "    def reset(self):\n",
        "        self.current_state = 0\n",
        "        return self.products.iloc[self.current_state]\n",
        "\n",
        "    def step(self, action):\n",
        "        reward = 1 if action == self.current_state else 0  # Simulated feedback\n",
        "        self.current_state = (self.current_state + 1) % len(self.products)\n",
        "        return self.products.iloc[self.current_state], reward, False, {}\n",
        "\n",
        "env = RecommendationEnv(products)\n"
      ],
      "outputs": [],
      "execution_count": null,
      "metadata": {
        "jupyter": {
          "source_hidden": false,
          "outputs_hidden": false
        },
        "nteract": {
          "transient": {
            "deleting": false
          }
        }
      }
    },
    {
      "cell_type": "markdown",
      "source": [
        "** RL Agent**\n",
        "\n",
        "Use Q-learning to optimize recommendations over multiple interactions."
      ],
      "metadata": {
        "nteract": {
          "transient": {
            "deleting": false
          }
        }
      }
    },
    {
      "cell_type": "code",
      "source": [
        "import numpy as np\n",
        "\n",
        "Q_table = np.zeros((len(products), len(products)))  # Q-table\n",
        "\n",
        "def q_learning(state, action, reward, learning_rate=0.1, discount_factor=0.9):\n",
        "    future_rewards = np.max(Q_table[state])\n",
        "    Q_table[state, action] = Q_table[state, action] + learning_rate * (\n",
        "        reward + discount_factor * future_rewards - Q_table[state, action]\n",
        "    )\n",
        "\n",
        "# Example interaction\n",
        "state = 0\n",
        "action = 1  # Recommended product index\n",
        "reward = 1  # Positive user feedback\n",
        "q_learning(state, action, reward)\n"
      ],
      "outputs": [],
      "execution_count": null,
      "metadata": {
        "jupyter": {
          "source_hidden": false,
          "outputs_hidden": false
        },
        "nteract": {
          "transient": {
            "deleting": false
          }
        }
      }
    },
    {
      "cell_type": "markdown",
      "source": [
        "** Backend Integration **\n",
        "\n",
        "Use Flask or FastAPI to handle user inputs and manage multi-turn conversations."
      ],
      "metadata": {
        "nteract": {
          "transient": {
            "deleting": false
          }
        }
      }
    },
    {
      "cell_type": "code",
      "source": [
        "from flask import Flask, request, jsonify\n",
        "\n",
        "app = Flask(__name__)\n",
        "\n",
        "@app.route('/chat', methods=['POST'])\n",
        "def chat():\n",
        "    user_input = request.json.get('message', '')\n",
        "    intent = classify_intent(user_input)\n",
        "    if intent == \"recommend\":\n",
        "        category = \"laptop\" if \"laptop\" in user_input.lower() else None\n",
        "        max_price = int(user_input.split('$')[-1]) if '$' in user_input else None\n",
        "        recommendations = recommend_products(category, max_price)\n",
        "        return jsonify(recommendations.to_dict(orient='records'))\n",
        "    elif intent == \"product_info\":\n",
        "        product_name = user_input.split(\"about\")[-1].strip()\n",
        "        details = products[products['name'].str.contains(product_name, case=False)].to_dict(orient='records')\n",
        "        return jsonify(details[0] if details else {\"response\": \"Product not found.\"})\n",
        "    else:\n",
        "        return jsonify({\"response\": \"Hello! How can I assist you?\"})\n",
        "\n",
        "if __name__ == '__main__':\n",
        "    app.run(debug=True)\n"
      ],
      "outputs": [],
      "execution_count": null,
      "metadata": {
        "jupyter": {
          "source_hidden": false,
          "outputs_hidden": false
        },
        "nteract": {
          "transient": {
            "deleting": false
          }
        }
      }
    }
  ],
  "metadata": {
    "kernelspec": {
      "name": "python310-sdkv2",
      "language": "python",
      "display_name": "Python 3.10 - SDK v2"
    },
    "language_info": {
      "name": "python",
      "version": "3.10.14",
      "mimetype": "text/x-python",
      "codemirror_mode": {
        "name": "ipython",
        "version": 3
      },
      "pygments_lexer": "ipython3",
      "nbconvert_exporter": "python",
      "file_extension": ".py"
    },
    "microsoft": {
      "ms_spell_check": {
        "ms_spell_check_language": "en"
      },
      "host": {
        "AzureML": {
          "notebookHasBeenCompleted": true
        }
      }
    },
    "nteract": {
      "version": "nteract-front-end@1.0.0"
    },
    "kernel_info": {
      "name": "python310-sdkv2"
    }
  },
  "nbformat": 4,
  "nbformat_minor": 2
}
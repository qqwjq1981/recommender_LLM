{
  "cells": [
    {
      "cell_type": "code",
      "source": [
        "import numpy as np\n",
        "import pandas as pd\n",
        "from deepctr.models import DeepFM\n",
        "from deepctr.utils import preprocess_categorical_features, get_feature_names\n"
      ],
      "outputs": [],
      "execution_count": null,
      "metadata": {}
    },
    {
      "cell_type": "code",
      "source": [
        "# Generate mock data\n",
        "num_users = 100\n",
        "num_movies = 20\n",
        "\n",
        "user_ids = np.random.randint(1, num_users + 1, size=num_users * num_movies)\n",
        "movie_ids = np.random.randint(1, num_movies + 1, size=num_users * num_movies)\n",
        "ratings = np.random.randint(1, 6, size=num_users * num_movies)\n",
        "user_age = np.random.randint(18, 65, size=num_users * num_movies)\n",
        "movie_year = np.random.randint(1990, 2024, size=num_users * num_movies)\n",
        "\n",
        "# Create a Pandas DataFrame\n",
        "data = pd.DataFrame({\n",
        "    'user_id': user_ids,\n",
        "    'movie_id': movie_ids,\n",
        "    'rating': ratings,\n",
        "    'user_age': user_age,\n",
        "    'movie_year': movie_year\n",
        "})\n",
        "\n"
      ],
      "outputs": [],
      "execution_count": null,
      "metadata": {
        "jupyter": {
          "source_hidden": false,
          "outputs_hidden": false
        },
        "nteract": {
          "transient": {
            "deleting": false
          }
        }
      }
    },
    {
      "cell_type": "code",
      "source": [
        "# Preprocess categorical features\n",
        "sparse_features = ['user_id', 'movie_id']\n",
        "dense_features = ['user_age', 'movie_year']\n",
        "target = 'rating'\n",
        "\n",
        "model_input, model_label = preprocess_categorical_features(data, sparse_features, dense_features, target)\n",
        "\n",
        "# Create DeepFM model\n",
        "model = DeepFM(sparse_features, dense_features, target, task='regression')\n",
        "\n",
        "# Compile the model\n",
        "model.compile(optimizer='adam', loss='mse')\n",
        "\n",
        "# Train the model\n",
        "model.fit(model_input, model_label, batch_size=32, epochs=10, validation_split=0.2)\n",
        "\n"
      ],
      "outputs": [],
      "execution_count": null,
      "metadata": {
        "jupyter": {
          "source_hidden": false,
          "outputs_hidden": false
        },
        "nteract": {
          "transient": {
            "deleting": false
          }
        }
      }
    },
    {
      "cell_type": "code",
      "source": [
        "# Make predictions\n",
        "new_user_ids = np.random.randint(1, num_users + 1, size=10)\n",
        "new_movie_ids = np.random.randint(1, num_movies + 1, size=10)\n",
        "new_user_age = np.random.randint(18, 65, size=10)\n",
        "new_movie_year = np.random.randint(1990, 2024, size=10)\n",
        "\n",
        "new_data = pd.DataFrame({\n",
        "    'user_id': new_user_ids,\n",
        "    'movie_id': new_movie_ids,\n",
        "    'user_age': new_user_age,\n",
        "    'movie_year': new_movie_year\n",
        "})\n",
        "\n",
        "new_model_input = preprocess_categorical_features(new_data, sparse_features, dense_features, target)\n",
        "predictions = model.predict(new_model_input)\n",
        "\n",
        "print(predictions)"
      ],
      "outputs": [],
      "execution_count": null,
      "metadata": {
        "jupyter": {
          "source_hidden": false,
          "outputs_hidden": false
        },
        "nteract": {
          "transient": {
            "deleting": false
          }
        }
      }
    }
  ],
  "metadata": {
    "kernelspec": {
      "display_name": "Python 3.10 - SDK v2",
      "language": "python",
      "name": "python310-sdkv2"
    },
    "language_info": {
      "codemirror_mode": {
        "name": "ipython",
        "version": 3
      },
      "file_extension": ".py",
      "mimetype": "text/x-python",
      "name": "python",
      "nbconvert_exporter": "python",
      "pygments_lexer": "ipython3",
      "version": "3.10.6"
    },
    "microsoft": {
      "ms_spell_check": {
        "ms_spell_check_language": "en"
      }
    },
    "nteract": {
      "version": "nteract-front-end@1.0.0"
    }
  },
  "nbformat": 4,
  "nbformat_minor": 2
}